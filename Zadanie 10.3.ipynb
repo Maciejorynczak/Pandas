{
 "cells": [
  {
   "cell_type": "markdown",
   "id": "76dad61d-3344-425a-b539-3d9ba0599e1b",
   "metadata": {},
   "source": [
    "Zadanie 10.3 Dane z rozkładu normalnego o średniej 3 i odchyleniu standardowym 1 dla 100 oraz 10 000."
   ]
  },
  {
   "cell_type": "code",
   "execution_count": 1,
   "id": "f48e83a1-d9f0-43ee-8417-47798639afbb",
   "metadata": {},
   "outputs": [],
   "source": [
    "import numpy as np\n",
    "import pandas as pd"
   ]
  },
  {
   "cell_type": "code",
   "execution_count": 2,
   "id": "32072252-2990-4fd2-9d83-5b674a7d19b5",
   "metadata": {},
   "outputs": [],
   "source": [
    "data_100 = np.random.normal(loc=3, scale=1, size=100)\n",
    "data_10000 = np.random.normal(loc=3, scale=1, size=10000)\n",
    "df_100 = pd.DataFrame(data_100, columns=['Data'])\n",
    "df_10000 = pd.DataFrame(data_10000, columns=['Data'])\n",
    "stats_100 = df_100.describe()\n",
    "stats_10000 = df_10000.describe()"
   ]
  },
  {
   "cell_type": "code",
   "execution_count": 3,
   "id": "cfd3cd43-c6cf-423a-8a4e-59f6a9033c10",
   "metadata": {},
   "outputs": [
    {
     "name": "stdout",
     "output_type": "stream",
     "text": [
      "Statystyki dla 100 próbek:\n",
      "             Data\n",
      "count  100.000000\n",
      "mean     3.017177\n",
      "std      0.990126\n",
      "min     -0.090059\n",
      "25%      2.409060\n",
      "50%      2.974601\n",
      "75%      3.701381\n",
      "max      5.292043\n",
      "\n",
      "Statystyki dla 10 000 próbek:\n",
      "               Data\n",
      "count  10000.000000\n",
      "mean       2.991797\n",
      "std        0.986965\n",
      "min       -0.824265\n",
      "25%        2.331351\n",
      "50%        2.981198\n",
      "75%        3.664631\n",
      "max        6.407593\n"
     ]
    }
   ],
   "source": [
    "print(\"Statystyki dla 100 próbek:\")\n",
    "print(stats_100)\n",
    "print(\"\\nStatystyki dla 10 000 próbek:\")\n",
    "print(stats_10000)"
   ]
  },
  {
   "cell_type": "code",
   "execution_count": 4,
   "id": "b1903d1e-478d-466e-83ce-ddd2046d973a",
   "metadata": {},
   "outputs": [
    {
     "name": "stdout",
     "output_type": "stream",
     "text": [
      "\n",
      "Porównanie statystyk:\n",
      "       100 próbek 10 000 próbek\n",
      "             Data          Data\n",
      "count  100.000000  10000.000000\n",
      "mean     3.017177      2.991797\n",
      "std      0.990126      0.986965\n",
      "min     -0.090059     -0.824265\n",
      "25%      2.409060      2.331351\n",
      "50%      2.974601      2.981198\n",
      "75%      3.701381      3.664631\n",
      "max      5.292043      6.407593\n"
     ]
    }
   ],
   "source": [
    "comparison = pd.concat([stats_100, stats_10000], axis=1, keys=['100 próbek', '10 000 próbek'])\n",
    "print(\"\\nPorównanie statystyk:\")\n",
    "print(comparison)"
   ]
  },
  {
   "cell_type": "code",
   "execution_count": null,
   "id": "1e7efb79-117e-4d33-95c5-7416952b6f9d",
   "metadata": {},
   "outputs": [],
   "source": []
  }
 ],
 "metadata": {
  "kernelspec": {
   "display_name": "Python 3 (ipykernel)",
   "language": "python",
   "name": "python3"
  },
  "language_info": {
   "codemirror_mode": {
    "name": "ipython",
    "version": 3
   },
   "file_extension": ".py",
   "mimetype": "text/x-python",
   "name": "python",
   "nbconvert_exporter": "python",
   "pygments_lexer": "ipython3",
   "version": "3.12.4"
  }
 },
 "nbformat": 4,
 "nbformat_minor": 5
}
