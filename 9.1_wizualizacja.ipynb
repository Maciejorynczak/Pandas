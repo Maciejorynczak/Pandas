{
 "cells": [
  {
   "cell_type": "markdown",
   "id": "e35ae7bd-5b65-4a97-81a2-d8af920e3946",
   "metadata": {},
   "source": [
    "# Analiza Danych Filmowych z TMDb\n",
    "Ten notebook zawiera analizę danych filmowych z wykorzystaniem zbiorów danych TMDb.\n"
   ]
  },
  {
   "cell_type": "code",
   "execution_count": 36,
   "id": "a08c49b7-e4ce-47a1-a23a-c8d251fa4ca3",
   "metadata": {},
   "outputs": [],
   "source": [
    "import pandas as pd\n",
    "import matplotlib.pyplot as plt\n"
   ]
  },
  {
   "cell_type": "code",
   "execution_count": 37,
   "id": "df397301-2816-411a-b7a4-dc27e0593adc",
   "metadata": {},
   "outputs": [],
   "source": [
    "# Wczytywanie danych z plików CSV używając ścieżek względnych\n",
    "movies_data = pd.read_csv('./tmdb_movies.csv')\n",
    "genres_data = pd.read_csv('./tmdb_genres.csv')\n"
   ]
  },
  {
   "cell_type": "code",
   "execution_count": 48,
   "id": "52de5932-9dba-49ea-ae2e-ba352c7497d4",
   "metadata": {},
   "outputs": [],
   "source": [
    "#zmiana nazw\n",
    "genres_data.columns = ['genre_id', 'genres']\n",
    "\n",
    "# Konwersja daty premiery na format datetime i wyodrębnienie roku premiery\n",
    "movies_data['release_date'] = pd.to_datetime(movies_data['release_date'], errors='coerce')\n",
    "movies_data['release_year'] = movies_data['release_date'].dt.year\n",
    "\n",
    "# Konwersja typów danych\n",
    "movies_data['genre_id'] = movies_data['genre_id'].astype(str)\n",
    "genres_data['genre_id'] = genres_data['genre_id'].astype(str)"
   ]
  },
  {
   "cell_type": "markdown",
   "id": "30d2ed5c-bd2e-420e-911d-6b3687ce71b2",
   "metadata": {},
   "source": [
    "## Zadanie 1: Znalezienie 10 Najwyżej Ocenianych Filmów.\n"
   ]
  },
  {
   "cell_type": "code",
   "execution_count": 51,
   "id": "7c674def-6226-472b-be2c-fc5633062dec",
   "metadata": {},
   "outputs": [
    {
     "data": {
      "text/html": [
       "<div>\n",
       "<style scoped>\n",
       "    .dataframe tbody tr th:only-of-type {\n",
       "        vertical-align: middle;\n",
       "    }\n",
       "\n",
       "    .dataframe tbody tr th {\n",
       "        vertical-align: top;\n",
       "    }\n",
       "\n",
       "    .dataframe thead th {\n",
       "        text-align: right;\n",
       "    }\n",
       "</style>\n",
       "<table border=\"1\" class=\"dataframe\">\n",
       "  <thead>\n",
       "    <tr style=\"text-align: right;\">\n",
       "      <th></th>\n",
       "      <th>genre_id</th>\n",
       "      <th>genres</th>\n",
       "    </tr>\n",
       "  </thead>\n",
       "  <tbody>\n",
       "    <tr>\n",
       "      <th>0</th>\n",
       "      <td>28.0</td>\n",
       "      <td>Action</td>\n",
       "    </tr>\n",
       "    <tr>\n",
       "      <th>1</th>\n",
       "      <td>12.0</td>\n",
       "      <td>Adventure</td>\n",
       "    </tr>\n",
       "    <tr>\n",
       "      <th>2</th>\n",
       "      <td>14.0</td>\n",
       "      <td>Fantasy</td>\n",
       "    </tr>\n",
       "    <tr>\n",
       "      <th>3</th>\n",
       "      <td>16.0</td>\n",
       "      <td>Animation</td>\n",
       "    </tr>\n",
       "    <tr>\n",
       "      <th>4</th>\n",
       "      <td>878.0</td>\n",
       "      <td>Science Fiction</td>\n",
       "    </tr>\n",
       "    <tr>\n",
       "      <th>5</th>\n",
       "      <td>18.0</td>\n",
       "      <td>Drama</td>\n",
       "    </tr>\n",
       "    <tr>\n",
       "      <th>6</th>\n",
       "      <td>53.0</td>\n",
       "      <td>Thriller</td>\n",
       "    </tr>\n",
       "    <tr>\n",
       "      <th>7</th>\n",
       "      <td>10751.0</td>\n",
       "      <td>Family</td>\n",
       "    </tr>\n",
       "    <tr>\n",
       "      <th>8</th>\n",
       "      <td>35.0</td>\n",
       "      <td>Comedy</td>\n",
       "    </tr>\n",
       "    <tr>\n",
       "      <th>9</th>\n",
       "      <td>36.0</td>\n",
       "      <td>History</td>\n",
       "    </tr>\n",
       "    <tr>\n",
       "      <th>10</th>\n",
       "      <td>10752.0</td>\n",
       "      <td>War</td>\n",
       "    </tr>\n",
       "    <tr>\n",
       "      <th>11</th>\n",
       "      <td>37.0</td>\n",
       "      <td>Western</td>\n",
       "    </tr>\n",
       "    <tr>\n",
       "      <th>12</th>\n",
       "      <td>10749.0</td>\n",
       "      <td>Romance</td>\n",
       "    </tr>\n",
       "    <tr>\n",
       "      <th>13</th>\n",
       "      <td>80.0</td>\n",
       "      <td>Crime</td>\n",
       "    </tr>\n",
       "    <tr>\n",
       "      <th>14</th>\n",
       "      <td>9648.0</td>\n",
       "      <td>Mystery</td>\n",
       "    </tr>\n",
       "    <tr>\n",
       "      <th>15</th>\n",
       "      <td>27.0</td>\n",
       "      <td>Horror</td>\n",
       "    </tr>\n",
       "    <tr>\n",
       "      <th>16</th>\n",
       "      <td>99.0</td>\n",
       "      <td>Documentary</td>\n",
       "    </tr>\n",
       "    <tr>\n",
       "      <th>17</th>\n",
       "      <td>10402.0</td>\n",
       "      <td>Music</td>\n",
       "    </tr>\n",
       "    <tr>\n",
       "      <th>18</th>\n",
       "      <td>10770.0</td>\n",
       "      <td>TV Movie</td>\n",
       "    </tr>\n",
       "    <tr>\n",
       "      <th>19</th>\n",
       "      <td>nan</td>\n",
       "      <td>NaN</td>\n",
       "    </tr>\n",
       "    <tr>\n",
       "      <th>20</th>\n",
       "      <td>10769.0</td>\n",
       "      <td>Foreign</td>\n",
       "    </tr>\n",
       "  </tbody>\n",
       "</table>\n",
       "</div>"
      ],
      "text/plain": [
       "   genre_id           genres\n",
       "0      28.0           Action\n",
       "1      12.0        Adventure\n",
       "2      14.0          Fantasy\n",
       "3      16.0        Animation\n",
       "4     878.0  Science Fiction\n",
       "5      18.0            Drama\n",
       "6      53.0         Thriller\n",
       "7   10751.0           Family\n",
       "8      35.0           Comedy\n",
       "9      36.0          History\n",
       "10  10752.0              War\n",
       "11     37.0          Western\n",
       "12  10749.0          Romance\n",
       "13     80.0            Crime\n",
       "14   9648.0          Mystery\n",
       "15     27.0           Horror\n",
       "16     99.0      Documentary\n",
       "17  10402.0            Music\n",
       "18  10770.0         TV Movie\n",
       "19      nan              NaN\n",
       "20  10769.0          Foreign"
      ]
     },
     "execution_count": 51,
     "metadata": {},
     "output_type": "execute_result"
    }
   ],
   "source": [
    "# Zadanie 1: Znalezienie 10 najwyżej ocenianych filmów z liczbą głosów powyżej 75. percentyla\n",
    "vote_count_threshold = movies_data['vote_count'].quantile(0.75)\n",
    "top_rated_movies = movies_data[movies_data['vote_count'] > vote_count_threshold].nlargest(10, 'vote_average')\n",
    "top_rated_movies\n",
    "genres_data"
   ]
  },
  {
   "cell_type": "markdown",
   "id": "ce9ddeae-7f65-4c70-8e60-9d2d97579457",
   "metadata": {},
   "source": [
    "## Zadanie 2: Obliczenie Średnich Przychodów i Budżetów w Latach 2010-2016.\n"
   ]
  },
  {
   "cell_type": "code",
   "execution_count": 52,
   "id": "92b17165-565f-46ba-8320-c36a531984a7",
   "metadata": {},
   "outputs": [
    {
     "data": {
      "text/html": [
       "<div>\n",
       "<style scoped>\n",
       "    .dataframe tbody tr th:only-of-type {\n",
       "        vertical-align: middle;\n",
       "    }\n",
       "\n",
       "    .dataframe tbody tr th {\n",
       "        vertical-align: top;\n",
       "    }\n",
       "\n",
       "    .dataframe thead th {\n",
       "        text-align: right;\n",
       "    }\n",
       "</style>\n",
       "<table border=\"1\" class=\"dataframe\">\n",
       "  <thead>\n",
       "    <tr style=\"text-align: right;\">\n",
       "      <th></th>\n",
       "      <th>release_year</th>\n",
       "      <th>revenue</th>\n",
       "      <th>budget</th>\n",
       "    </tr>\n",
       "  </thead>\n",
       "  <tbody>\n",
       "    <tr>\n",
       "      <th>0</th>\n",
       "      <td>2010</td>\n",
       "      <td>90,438,110.08</td>\n",
       "      <td>34,495,410.94</td>\n",
       "    </tr>\n",
       "    <tr>\n",
       "      <th>1</th>\n",
       "      <td>2011</td>\n",
       "      <td>92,004,130.76</td>\n",
       "      <td>34,772,320.34</td>\n",
       "    </tr>\n",
       "    <tr>\n",
       "      <th>2</th>\n",
       "      <td>2012</td>\n",
       "      <td>116,065,914.64</td>\n",
       "      <td>34,922,031.99</td>\n",
       "    </tr>\n",
       "    <tr>\n",
       "      <th>3</th>\n",
       "      <td>2013</td>\n",
       "      <td>101,348,455.82</td>\n",
       "      <td>35,523,293.65</td>\n",
       "    </tr>\n",
       "    <tr>\n",
       "      <th>4</th>\n",
       "      <td>2014</td>\n",
       "      <td>101,346,599.11</td>\n",
       "      <td>30,959,887.86</td>\n",
       "    </tr>\n",
       "    <tr>\n",
       "      <th>5</th>\n",
       "      <td>2015</td>\n",
       "      <td>105,439,926.95</td>\n",
       "      <td>31,132,163.74</td>\n",
       "    </tr>\n",
       "    <tr>\n",
       "      <th>6</th>\n",
       "      <td>2016</td>\n",
       "      <td>139,049,586.04</td>\n",
       "      <td>45,703,269.23</td>\n",
       "    </tr>\n",
       "  </tbody>\n",
       "</table>\n",
       "</div>"
      ],
      "text/plain": [
       "   release_year         revenue         budget\n",
       "0          2010   90,438,110.08  34,495,410.94\n",
       "1          2011   92,004,130.76  34,772,320.34\n",
       "2          2012  116,065,914.64  34,922,031.99\n",
       "3          2013  101,348,455.82  35,523,293.65\n",
       "4          2014  101,346,599.11  30,959,887.86\n",
       "5          2015  105,439,926.95  31,132,163.74\n",
       "6          2016  139,049,586.04  45,703,269.23"
      ]
     },
     "execution_count": 52,
     "metadata": {},
     "output_type": "execute_result"
    }
   ],
   "source": [
    "\n",
    "grouped_data = movies_data[(movies_data['release_year'] >= 2010) & (movies_data['release_year'] <= 2016)]\n",
    "\n",
    "\n",
    "grouped_data = grouped_data.groupby('release_year').agg({'revenue': 'mean', 'budget': 'mean'}).reset_index()\n",
    "grouped_data['release_year'] = grouped_data['release_year'].astype(int)\n",
    "\n",
    "\n",
    "grouped_data['revenue'] = grouped_data['revenue'].apply(lambda x: f\"{x:,.2f}\")\n",
    "grouped_data['budget'] = grouped_data['budget'].apply(lambda x: f\"{x:,.2f}\")\n",
    "\n",
    "grouped_data\n"
   ]
  },
  {
   "cell_type": "markdown",
   "id": "b98542e9-ed93-4473-9d52-c274df7c2613",
   "metadata": {},
   "source": [
    "## Zadanie 3: Łączenie Danych o Filmach z Gatunkami\n"
   ]
  },
  {
   "cell_type": "code",
   "execution_count": 41,
   "id": "1b43e8ef-f96f-407e-8674-02e7b7ba5e58",
   "metadata": {},
   "outputs": [],
   "source": [
    "# Zadanie 3: Połączenie danych o filmach z danymi o gatunkach\n",
    "merged_data = pd.merge(movies_data, genres_data, left_on='genre_id', right_on='genre_id', how='left')\n"
   ]
  },
  {
   "cell_type": "markdown",
   "id": "8800e375-7862-4ec9-bf3a-31759d85e0a4",
   "metadata": {},
   "source": [
    "## Zadanie 4: Znalezienie Najczęściej Występującego Gatunku\n"
   ]
  },
  {
   "cell_type": "code",
   "execution_count": 42,
   "id": "eeab41c1-4704-40b3-90e6-202a8173f34c",
   "metadata": {},
   "outputs": [
    {
     "name": "stdout",
     "output_type": "stream",
     "text": [
      "Najczęściej występujący gatunek filmu: Drama\n",
      "Liczba filmów w tym gatunku: 1207\n"
     ]
    }
   ],
   "source": [
    "# Krok 1: Usunięcie wierszy, gdzie kolumna 'genres' ma wartość NaN\n",
    "filtered_data = merged_data.dropna(subset=['genres'])\n",
    "\n",
    "# Krok 2: Znalezienie najczęściej występującego gatunku\n",
    "most_common_genre = filtered_data['genres'].value_counts().idxmax()\n",
    "most_common_genre_count = filtered_data['genres'].value_counts().max()\n",
    "\n",
    "# Wyświetlenie wyników\n",
    "print(f\"Najczęściej występujący gatunek filmu: {most_common_genre}\")\n",
    "print(f\"Liczba filmów w tym gatunku: {most_common_genre_count}\")\n",
    "\n"
   ]
  },
  {
   "cell_type": "markdown",
   "id": "e4925adb-ee6f-4c29-a9c8-84b635b83f4f",
   "metadata": {},
   "source": [
    "## Zadanie 5: Gatunek o Najdłuższym Średnim Czasie Trwania\n"
   ]
  },
  {
   "cell_type": "code",
   "execution_count": 43,
   "id": "37f7a2e4-8140-4626-b64a-d0446512bdd6",
   "metadata": {},
   "outputs": [
    {
     "name": "stdout",
     "output_type": "stream",
     "text": [
      "Gatunek filmu o najdłuższym średnim czasie trwania: History\n",
      "Średni czas trwania: 133.96 minut\n"
     ]
    }
   ],
   "source": [
    "# Zadanie 5: Znalezienie gatunku o najdłuższym średnim czasie trwania\n",
    "longest_runtime_genre = merged_data.groupby('genres')['runtime'].mean().idxmax()\n",
    "longest_runtime = merged_data.groupby('genres')['runtime'].mean().max()\n",
    "\n",
    "print(f\"Gatunek filmu o najdłuższym średnim czasie trwania: {longest_runtime_genre}\")\n",
    "print(f\"Średni czas trwania: {longest_runtime} minut\")\n"
   ]
  },
  {
   "cell_type": "code",
   "execution_count": 53,
   "id": "8a0e876d-e98d-4260-99bc-050e7941de3d",
   "metadata": {},
   "outputs": [
    {
     "data": {
      "image/png": "[encoded data removed]",
      "text/plain": [
       "<Figure size 1000x600 with 1 Axes>"
      ]
     },
     "metadata": {},
     "output_type": "display_data"
    },
    {
     "ename": "NameError",
     "evalue": "name 'show' is not defined",
     "output_type": "error",
     "traceback": [
      "\u001b[1;31m---------------------------------------------------------------------------\u001b[0m",
      "\u001b[1;31mNameError\u001b[0m                                 Traceback (most recent call last)",
      "Cell \u001b[1;32mIn[53], line 11\u001b[0m\n\u001b[0;32m      9\u001b[0m plt\u001b[38;5;241m.\u001b[39mgrid(\u001b[38;5;28;01mTrue\u001b[39;00m)\n\u001b[0;32m     10\u001b[0m plt\u001b[38;5;241m.\u001b[39mshow()\n\u001b[1;32m---> 11\u001b[0m show()\n",
      "\u001b[1;31mNameError\u001b[0m: name 'show' is not defined"
     ]
    }
   ],
   "source": [
    "# Zadanie 6: Histogram Czasu Trwania Filmów \n",
    "longest_runtime_genre_data = merged_data[merged_data['genres'] == longest_runtime_genre]\n",
    "\n",
    "plt.figure(figsize=(10, 6))\n",
    "plt.hist(longest_runtime_genre_data['runtime'].dropna(), bins=20, color='blue', edgecolor='black')\n",
    "plt.title(f'Histogram czasu trwania filmów dla gatunku: {longest_runtime_genre}')\n",
    "plt.xlabel('Czas trwania (minuty)')\n",
    "plt.ylabel('Liczba filmów')\n",
    "plt.grid(True)\n",
    "plt.show()\n",
    "show()\n"
   ]
  },
  {
   "cell_type": "code",
   "execution_count": null,
   "id": "c6428fab-0f32-47c7-b46f-46edd267471d",
   "metadata": {},
   "outputs": [],
   "source": []
  }
 ],
 "metadata": {
  "kernelspec": {
   "display_name": "Python 3 (ipykernel)",
   "language": "python",
   "name": "python3"
  },
  "language_info": {
   "codemirror_mode": {
    "name": "ipython",
    "version": 3
   },
   "file_extension": ".py",
   "mimetype": "text/x-python",
   "name": "python",
   "nbconvert_exporter": "python",
   "pygments_lexer": "ipython3",
   "version": "3.12.4"
  }
 },
 "nbformat": 4,
 "nbformat_minor": 5
}
